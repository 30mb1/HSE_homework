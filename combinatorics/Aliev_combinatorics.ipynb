{
 "cells": [
  {
   "cell_type": "code",
   "execution_count": 1,
   "metadata": {},
   "outputs": [],
   "source": [
    "import matplotlib.pyplot as plt\n",
    "from matplotlib.patches import Rectangle as rc\n",
    "import pandas as pd\n",
    "import operator as op\n",
    "from math import sqrt\n",
    "from functools import reduce\n",
    "from random import choice, sample, shuffle\n",
    "from copy import deepcopy"
   ]
  },
  {
   "cell_type": "markdown",
   "metadata": {},
   "source": [
    "Задание выполнил студент 154 группы Алиев Магомед."
   ]
  },
  {
   "cell_type": "markdown",
   "metadata": {},
   "source": [
    "# Number 1.1"
   ]
  },
  {
   "cell_type": "code",
   "execution_count": 2,
   "metadata": {},
   "outputs": [
    {
     "data": {
      "image/png": "[encoded data removed]",
      "text/plain": [
       "<matplotlib.figure.Figure at 0x7efc04f950b8>"
      ]
     },
     "metadata": {},
     "output_type": "display_data"
    }
   ],
   "source": [
    "def ncr(n, r):\n",
    "    r = min(r, n-r)\n",
    "    numer = reduce(op.mul, range(n, n-r, -1), 1)\n",
    "    denom = reduce(op.mul, range(1, r+1), 1)\n",
    "    return numer//denom\n",
    "\n",
    "def K_func(n):\n",
    "    sum_ = 0\n",
    "    for i in range(int(n/2 - sqrt(n))):\n",
    "        sum_ += ncr(n, i)\n",
    "    return sum_\n",
    "\n",
    "num = 100\n",
    "\n",
    "x = [i for i in range(num)]\n",
    "y = [K_func(i) for i in range(num)]\n",
    "    \n",
    "    \n",
    "plt.figure(figsize=(15, 6))\n",
    "plt.subplot(1, 2, 1)\n",
    "plt.yscale(\"log\")\n",
    "plt.title('Logarithmic scale')\n",
    "plt.plot(x, y)\n",
    "plt.xlabel('N')\n",
    "plt.ylabel('K(N)')\n",
    "plt.grid(True)\n",
    "\n",
    "plt.subplot(1, 2, 2)\n",
    "plt.plot(x, y)\n",
    "plt.title('Normal scale')\n",
    "plt.xlabel('N')\n",
    "plt.ylabel('K(N)')\n",
    "plt.grid(True)\n",
    "\n",
    "plt.show()"
   ]
  },
  {
   "cell_type": "markdown",
   "metadata": {},
   "source": [
    "# Number 2.3.1\n",
    "\n",
    "**Task**: There are coins of denominations 1, 5, 10, 25, 50 cents and \\$1. In how many different ways\n",
    "can we make up $1 (i.e. 100 cents) from these coins?\n",
    "\n",
    "In this section, a = {1, 5, 10, 25, 50, 100} is the list of coin denominations.\n",
    "This classical problem of dynamic programming can be solved by means of a recurrence relation.\n",
    "\n",
    "$$ f(n) = \\begin{cases} 0, & k < 1\\ or\\ n < 0 \\\\ 1, & n = 0 \\\\ f(n, k-1) + f(n - a_k, k) & else \\end{cases} $$\n",
    "\n",
    "Important to note that when changing money “5 penny, 10 penny” and “10 penny, 5 penny” are considered as just one way of making change for 15 cents, so that ordering is not being taken into account.\n",
    "\n",
    "In usual case, the number of ways of making change using the first k types of coin is the number of ways that don't use that coin $f(n, k - 1)$ plus the number of ways that do $f(n - a_k, k)$. The boundary cases assert that there is exactly one way to make change for 0 cents using a positive number of coins and there are no ways to make change for negative amounts, or using no coins. Thus, the difficulty of finding the number of all the variants of the change will be $O(n*k)$."
   ]
  },
  {
   "cell_type": "code",
   "execution_count": 3,
   "metadata": {},
   "outputs": [
    {
     "data": {
      "text/html": [
       "<div>\n",
       "<style>\n",
       "    .dataframe thead tr:only-child th {\n",
       "        text-align: right;\n",
       "    }\n",
       "\n",
       "    .dataframe thead th {\n",
       "        text-align: left;\n",
       "    }\n",
       "\n",
       "    .dataframe tbody tr th {\n",
       "        vertical-align: top;\n",
       "    }\n",
       "</style>\n",
       "<table border=\"1\" class=\"dataframe\">\n",
       "  <thead>\n",
       "    <tr style=\"text-align: right;\">\n",
       "      <th></th>\n",
       "      <th>f(n, 1)</th>\n",
       "      <th>f(n, 2)</th>\n",
       "      <th>f(n, 3)</th>\n",
       "      <th>f(n, 4)</th>\n",
       "      <th>f(n, 5)</th>\n",
       "      <th>f(n, 6)</th>\n",
       "    </tr>\n",
       "  </thead>\n",
       "  <tbody>\n",
       "    <tr>\n",
       "      <th>0</th>\n",
       "      <td>1</td>\n",
       "      <td>1</td>\n",
       "      <td>1</td>\n",
       "      <td>1</td>\n",
       "      <td>1</td>\n",
       "      <td>1</td>\n",
       "    </tr>\n",
       "    <tr>\n",
       "      <th>5</th>\n",
       "      <td>1</td>\n",
       "      <td>2</td>\n",
       "      <td>2</td>\n",
       "      <td>2</td>\n",
       "      <td>2</td>\n",
       "      <td>2</td>\n",
       "    </tr>\n",
       "    <tr>\n",
       "      <th>10</th>\n",
       "      <td>1</td>\n",
       "      <td>3</td>\n",
       "      <td>4</td>\n",
       "      <td>4</td>\n",
       "      <td>4</td>\n",
       "      <td>4</td>\n",
       "    </tr>\n",
       "    <tr>\n",
       "      <th>15</th>\n",
       "      <td>1</td>\n",
       "      <td>4</td>\n",
       "      <td>6</td>\n",
       "      <td>6</td>\n",
       "      <td>6</td>\n",
       "      <td>6</td>\n",
       "    </tr>\n",
       "    <tr>\n",
       "      <th>20</th>\n",
       "      <td>1</td>\n",
       "      <td>5</td>\n",
       "      <td>9</td>\n",
       "      <td>9</td>\n",
       "      <td>9</td>\n",
       "      <td>9</td>\n",
       "    </tr>\n",
       "    <tr>\n",
       "      <th>25</th>\n",
       "      <td>1</td>\n",
       "      <td>6</td>\n",
       "      <td>12</td>\n",
       "      <td>13</td>\n",
       "      <td>13</td>\n",
       "      <td>13</td>\n",
       "    </tr>\n",
       "    <tr>\n",
       "      <th>30</th>\n",
       "      <td>1</td>\n",
       "      <td>7</td>\n",
       "      <td>16</td>\n",
       "      <td>18</td>\n",
       "      <td>18</td>\n",
       "      <td>18</td>\n",
       "    </tr>\n",
       "    <tr>\n",
       "      <th>35</th>\n",
       "      <td>1</td>\n",
       "      <td>8</td>\n",
       "      <td>20</td>\n",
       "      <td>24</td>\n",
       "      <td>24</td>\n",
       "      <td>24</td>\n",
       "    </tr>\n",
       "    <tr>\n",
       "      <th>40</th>\n",
       "      <td>1</td>\n",
       "      <td>9</td>\n",
       "      <td>25</td>\n",
       "      <td>31</td>\n",
       "      <td>31</td>\n",
       "      <td>31</td>\n",
       "    </tr>\n",
       "    <tr>\n",
       "      <th>45</th>\n",
       "      <td>1</td>\n",
       "      <td>10</td>\n",
       "      <td>30</td>\n",
       "      <td>39</td>\n",
       "      <td>39</td>\n",
       "      <td>39</td>\n",
       "    </tr>\n",
       "    <tr>\n",
       "      <th>50</th>\n",
       "      <td>1</td>\n",
       "      <td>11</td>\n",
       "      <td>36</td>\n",
       "      <td>49</td>\n",
       "      <td>50</td>\n",
       "      <td>50</td>\n",
       "    </tr>\n",
       "    <tr>\n",
       "      <th>55</th>\n",
       "      <td>1</td>\n",
       "      <td>12</td>\n",
       "      <td>42</td>\n",
       "      <td>60</td>\n",
       "      <td>62</td>\n",
       "      <td>62</td>\n",
       "    </tr>\n",
       "    <tr>\n",
       "      <th>60</th>\n",
       "      <td>1</td>\n",
       "      <td>13</td>\n",
       "      <td>49</td>\n",
       "      <td>73</td>\n",
       "      <td>77</td>\n",
       "      <td>77</td>\n",
       "    </tr>\n",
       "    <tr>\n",
       "      <th>65</th>\n",
       "      <td>1</td>\n",
       "      <td>14</td>\n",
       "      <td>56</td>\n",
       "      <td>87</td>\n",
       "      <td>93</td>\n",
       "      <td>93</td>\n",
       "    </tr>\n",
       "    <tr>\n",
       "      <th>70</th>\n",
       "      <td>1</td>\n",
       "      <td>15</td>\n",
       "      <td>64</td>\n",
       "      <td>103</td>\n",
       "      <td>112</td>\n",
       "      <td>112</td>\n",
       "    </tr>\n",
       "    <tr>\n",
       "      <th>75</th>\n",
       "      <td>1</td>\n",
       "      <td>16</td>\n",
       "      <td>72</td>\n",
       "      <td>121</td>\n",
       "      <td>134</td>\n",
       "      <td>134</td>\n",
       "    </tr>\n",
       "    <tr>\n",
       "      <th>80</th>\n",
       "      <td>1</td>\n",
       "      <td>17</td>\n",
       "      <td>81</td>\n",
       "      <td>141</td>\n",
       "      <td>159</td>\n",
       "      <td>159</td>\n",
       "    </tr>\n",
       "    <tr>\n",
       "      <th>85</th>\n",
       "      <td>1</td>\n",
       "      <td>18</td>\n",
       "      <td>90</td>\n",
       "      <td>163</td>\n",
       "      <td>187</td>\n",
       "      <td>187</td>\n",
       "    </tr>\n",
       "    <tr>\n",
       "      <th>90</th>\n",
       "      <td>1</td>\n",
       "      <td>19</td>\n",
       "      <td>100</td>\n",
       "      <td>187</td>\n",
       "      <td>218</td>\n",
       "      <td>218</td>\n",
       "    </tr>\n",
       "    <tr>\n",
       "      <th>95</th>\n",
       "      <td>1</td>\n",
       "      <td>20</td>\n",
       "      <td>110</td>\n",
       "      <td>213</td>\n",
       "      <td>252</td>\n",
       "      <td>252</td>\n",
       "    </tr>\n",
       "    <tr>\n",
       "      <th>100</th>\n",
       "      <td>1</td>\n",
       "      <td>21</td>\n",
       "      <td>121</td>\n",
       "      <td>242</td>\n",
       "      <td>292</td>\n",
       "      <td>293</td>\n",
       "    </tr>\n",
       "  </tbody>\n",
       "</table>\n",
       "</div>"
      ],
      "text/plain": [
       "    f(n, 1) f(n, 2) f(n, 3) f(n, 4) f(n, 5) f(n, 6)\n",
       "0         1       1       1       1       1       1\n",
       "5         1       2       2       2       2       2\n",
       "10        1       3       4       4       4       4\n",
       "15        1       4       6       6       6       6\n",
       "20        1       5       9       9       9       9\n",
       "25        1       6      12      13      13      13\n",
       "30        1       7      16      18      18      18\n",
       "35        1       8      20      24      24      24\n",
       "40        1       9      25      31      31      31\n",
       "45        1      10      30      39      39      39\n",
       "50        1      11      36      49      50      50\n",
       "55        1      12      42      60      62      62\n",
       "60        1      13      49      73      77      77\n",
       "65        1      14      56      87      93      93\n",
       "70        1      15      64     103     112     112\n",
       "75        1      16      72     121     134     134\n",
       "80        1      17      81     141     159     159\n",
       "85        1      18      90     163     187     187\n",
       "90        1      19     100     187     218     218\n",
       "95        1      20     110     213     252     252\n",
       "100       1      21     121     242     292     293"
      ]
     },
     "metadata": {},
     "output_type": "display_data"
    }
   ],
   "source": [
    "df_combinations = pd.DataFrame(columns=[\"f(n, {})\".format(i) for i in range(1, 7)],\n",
    "                       index=[i for i in range(0, 101, 5)])\n",
    "\n",
    "a = [1, 5, 10, 25, 50, 100]\n",
    "\n",
    "def get_value(n, k):\n",
    "    if k < 1 or n < 0:\n",
    "        return 0\n",
    "    elif n == 0:\n",
    "        return 1\n",
    "    else:\n",
    "        return df_combinations.iloc[n][k - 1]\n",
    "\n",
    "for i in range(1, 7):\n",
    "    for j in range(0, 101, 5):\n",
    "        j = int(j / 5)\n",
    "        df_combinations.iloc[j][i - 1] = get_value(j, i - 1) + get_value(int((j * 5 - a[i - 1])/5), i)\n",
    "\n",
    "\n",
    "display(df_combinations)"
   ]
  },
  {
   "cell_type": "markdown",
   "metadata": {},
   "source": [
    "And some examples."
   ]
  },
  {
   "cell_type": "code",
   "execution_count": 4,
   "metadata": {},
   "outputs": [],
   "source": [
    "a = [1, 5, 10, 25, 50, 100]\n",
    "\n",
    "all_vars = []\n",
    "\n",
    "max_ = 100\n",
    "\n",
    "def inc_(cur_list, cur_sum):\n",
    "    if cur_sum > max_:\n",
    "        return None\n",
    "    elif cur_sum == max_:\n",
    "        return all_vars.append(cur_list)\n",
    "    \n",
    "    last = cur_list[-1]\n",
    "    for i in a:\n",
    "        if i < last:\n",
    "            continue\n",
    "        inc_(cur_list + [i], cur_sum + i)\n",
    "\n",
    "# use this function to get list of all variants of changes\n",
    "def get_change(n):\n",
    "    global max_\n",
    "    global all_vars\n",
    "    max_ = n\n",
    "    start = [0]\n",
    "    inc_(start, 0)\n",
    "    tmp = deepcopy(all_vars)\n",
    "    all_vars = []\n",
    "    return tmp"
   ]
  },
  {
   "cell_type": "code",
   "execution_count": 5,
   "metadata": {
    "scrolled": false
   },
   "outputs": [
    {
     "name": "stdout",
     "output_type": "stream",
     "text": [
      "Number of combinations - 9\n",
      "1 1 1 1 1 1 1 1 1 1 1 1 1 1 1 1 1 1 1 1 \n",
      "\n",
      "1 1 1 1 1 1 1 1 1 1 1 1 1 1 1 5 \n",
      "\n",
      "1 1 1 1 1 1 1 1 1 1 5 5 \n",
      "\n",
      "1 1 1 1 1 1 1 1 1 1 10 \n",
      "\n",
      "1 1 1 1 1 5 5 5 \n",
      "\n",
      "1 1 1 1 1 5 10 \n",
      "\n",
      "5 5 5 5 \n",
      "\n",
      "5 5 10 \n",
      "\n",
      "10 10 \n",
      "\n"
     ]
    }
   ],
   "source": [
    "changes = get_change(20)\n",
    "print ('Number of combinations - {}'.format(len(changes)))\n",
    "\n",
    "for i in changes:\n",
    "    for j in i[1:]:\n",
    "        print (j, end=' ')\n",
    "    print ('\\n')"
   ]
  },
  {
   "cell_type": "markdown",
   "metadata": {},
   "source": [
    "# Number 3.1.2\n",
    "\n",
    "This task is also easily solved by methods of dynamic programming. Again, all we need is a recurrence relation. Lets number all figures starting with 1:\n",
    " - 1 - our rectangle -> (3*2) size\n",
    " - 2 + 6 = 1 -> (3*2) \n",
    " - 3 + 4 -> (3*3)\n",
    " - 3 + 6 + 6 = 1 -> (3*2)\n",
    " - 4 + 6 = 1 - > (3*2)\n",
    " - 5 = (3*1)\n",
    " - 6 + 6 + 6 = 5 -> (3*1)\n",
    " \n",
    "Thus we have 4 figures of size (3, 2), 2 figures of size (3, 1) and 1 figure of size (3, 3). It means the number of ways of filling rectangular of length N is the number of fillings of N-2 multiplied by 4 plus the number of fillings of N-1 multiplied by 2 plus the number of fillings of N-3. So, our recurrence relation looks like:\n",
    "$$ F_n = 4*F_{n-2} + 2*F_{n-1} + F_{n-3} $$\n",
    "The first three elements could be calculated manually:\n",
    "$$ F(0) = 1, F(1) = 2, F(2) = 8 $$\n",
    "Sure, $F(0)$ should be 0, but 1 is needed to correctly calculate F(3)."
   ]
  },
  {
   "cell_type": "code",
   "execution_count": 6,
   "metadata": {},
   "outputs": [
    {
     "name": "stdout",
     "output_type": "stream",
     "text": [
      "N_0  - 1               N_25 - 6591960236402\n",
      "N_1  - 2               N_26 - 21771765673688\n",
      "N_2  - 8               N_27 - 71907257257465\n",
      "N_3  - 25              N_28 - 237493537446084\n",
      "N_4  - 84              N_29 - 784387869595716\n",
      "N_5  - 276             N_30 - 2590657146233233\n",
      "N_6  - 913             N_31 - 8556359308295414\n",
      "N_7  - 3014            N_32 - 28259735071119476\n",
      "N_8  - 9956            N_33 - 93335564521653841\n",
      "N_9  - 32881           N_34 - 308266428636081000\n",
      "N_10 - 108600          N_35 - 1018134850429896840\n",
      "N_11 - 358680          N_36 - 3362670979925771521\n",
      "N_12 - 1184641         N_37 - 11106147790207211402\n",
      "N_13 - 3912602         N_38 - 36681114350547405728\n",
      "N_14 - 12922448        N_39 - 121149490841849428585\n",
      "N_15 - 42679945        N_40 - 400129586876095691484\n",
      "N_16 - 140962284       N_41 - 1321538251470136503036\n",
      "N_17 - 465566796       N_42 - 4364744341286505200593\n",
      "N_18 - 1537662673      N_43 - 14415771275329652104814\n",
      "N_19 - 5078554814      N_44 - 47612058167275461515036\n",
      "N_20 - 16773327116     N_45 - 157251945777156036649921\n",
      "N_21 - 55398536161     N_46 - 519367895498743571464800\n",
      "N_22 - 182968935600    N_47 - 1715355632273386751044320\n",
      "N_23 - 604305342960    N_48 - 5665434792318903824597761\n",
      "N_24 - 1995884964481   N_49 - 18711660009230098224837602\n"
     ]
    }
   ],
   "source": [
    "# define first three elements\n",
    "F = [1, 2, 8]\n",
    "\n",
    "N = 50\n",
    "\n",
    "for i in range (3, N):\n",
    "    F.append(4*F[i-2] + 2*F[i-1] + F[i-3])\n",
    "    \n",
    "for i in range(25):\n",
    "    print (\"N_{:<2} - {:<15} N_{} - {}\".format(i, F[i], i + 25, F[i + 25]))"
   ]
  },
  {
   "cell_type": "markdown",
   "metadata": {},
   "source": [
    "We can plot a graph to demonstrate how fast the number of ways increases."
   ]
  },
  {
   "cell_type": "code",
   "execution_count": 7,
   "metadata": {},
   "outputs": [
    {
     "data": {
      "image/png": "[encoded data removed]",
      "text/plain": [
       "<matplotlib.figure.Figure at 0x7efc029a4978>"
      ]
     },
     "metadata": {},
     "output_type": "display_data"
    }
   ],
   "source": [
    "x = [i for i in range(N)]\n",
    "y = F\n",
    "\n",
    "fig = plt.figure(figsize=(15, 6))\n",
    "\n",
    "\n",
    "plt.subplot(1, 2, 1)\n",
    "plt.yscale(\"log\")\n",
    "plt.title('Logarithmic scale')\n",
    "plt.plot(x, y)\n",
    "plt.xlabel('N')\n",
    "plt.ylabel('Number of combinations')\n",
    "plt.grid(True)\n",
    "\n",
    "ax2 = fig.add_subplot(1, 2, 2)\n",
    "plt.plot(x, y)\n",
    "plt.title('Normal scale')\n",
    "plt.xlabel('N')\n",
    "plt.ylabel('Number of combinations')\n",
    "plt.grid(True)\n",
    "\n",
    "plt.show()"
   ]
  },
  {
   "cell_type": "markdown",
   "metadata": {},
   "source": [
    "Now lets add some visualization."
   ]
  },
  {
   "cell_type": "code",
   "execution_count": 8,
   "metadata": {
    "scrolled": false
   },
   "outputs": [],
   "source": [
    "# lets define some rules for every figure\n",
    "\n",
    "# possible variants for concatination\n",
    "fig_ = {\n",
    "        '0' : ['0', '1', '2', '4', '5xx', '555'],\n",
    "        '1' : ['xx5'],\n",
    "        '2' : ['3', 'x55'],\n",
    "        '3' : ['0', '1', '2', '4', '5xx', '555'],\n",
    "        '4' : ['0', '1', '2', '4', '5xx', '555'],\n",
    "        '5xx' : ['3'],\n",
    "        'x55' : ['0', '1', '2', '4', '5xx', '555'],\n",
    "        'xx5' : ['0', '1', '2', '4', '5xx', '555'],\n",
    "        '555' : ['0', '1', '2', '4', '5xx', '555']\n",
    "}\n",
    "\n",
    "def random_color():\n",
    "    rgbl=[i for i in range(256)]\n",
    "    res = sample(rgbl, 3)\n",
    "    return tuple(res)\n",
    "\n",
    "colors = {}\n",
    "for i in fig_.keys():\n",
    "    colors[i] = '#{:02x}{:02x}{:02x}'.format(*random_color())\n",
    "\n",
    "fig_patches = {\n",
    "    '0' : [[(0,0), 2, 3]],\n",
    "    '1' : [[(0,0), 1, 3], [(1,0), 1, 2]],\n",
    "    '2' : [[(0,0), 1, 3], [(1,0), 1, 1]],\n",
    "    '3' : [[(0,1.1), 1, 2], [(1,0.1), 1, 3]],\n",
    "    '4' : [[(0,0), 1, 3]],\n",
    "    '5xx' : [[(0,0), 1, 1]],\n",
    "    'x55' : [[(0,1.1), 1, 1], [(0,2.2), 1, 1]],\n",
    "    'xx5' : [[(0,2.1), 1, 1]],\n",
    "    '555' : [[(0,-0.1), 1, 1], [(0,1), 1, 1], [(0,2.1), 1, 1]]\n",
    "}\n",
    "\n",
    "delta = {\n",
    "    '0' : 2.1, '1' : 1.1, '2' : 1.1, '3' : 2.1, '4' : 1.1, '5xx' : 0.1, '555' : 1.1, 'xx5' : 1.1, 'x55' : 1.1\n",
    "}\n",
    "\n",
    "lln = {\n",
    "    '0' : 2, '1' : 2, '2' : 2, '3' : 1, '4' : 1, '5xx' : 1, '555' : 1, 'xx5' : 0, 'x55' : 0\n",
    "}\n",
    "end = ['0', '4', '555', 'x55', 'xx5', '3']\n",
    "\n",
    "begin = [['0'], ['1'], ['2'], ['4'], ['5xx'], ['555']]\n",
    "\n",
    "goal = 0\n",
    "all_variants = []\n",
    "\n",
    "def add_(cur_list, cur_len, all_=False):\n",
    "    tmp = list(cur_list)\n",
    "    last = tmp[-1]\n",
    "\n",
    "    if cur_len == goal and last in end:\n",
    "        if all_ is not False:\n",
    "            all_variants.append(tmp)\n",
    "        return tmp\n",
    "    elif cur_len > goal:\n",
    "        return None\n",
    "\n",
    "    if all_ is not False:\n",
    "        next_figures = fig_[last]\n",
    "    else:\n",
    "        next_figures = sample(fig_[last], len(fig_[last]))\n",
    "\n",
    "    for figure in next_figures:\n",
    "        new_comb = add_(tmp + [figure], cur_len + lln[figure], all_)\n",
    "        if new_comb is not None and all_ is False:\n",
    "            return new_comb\n",
    "        \n",
    "def get_random_comb(n):\n",
    "    global goal\n",
    "    goal = n\n",
    "    rand_begin = choice(begin)\n",
    "    rect = None\n",
    "    while rect == None:\n",
    "        rect = add_(rand_begin, lln[rand_begin[0]])\n",
    "        \n",
    "    return rect\n",
    "\n",
    "def get_all_comb(n):\n",
    "    global goal\n",
    "    global all_variants\n",
    "    goal = n\n",
    "    for i_begin in begin:\n",
    "        add_(i_begin, lln[i_begin[0]], all_=True)\n",
    "        \n",
    "    tmp = deepcopy(all_variants)\n",
    "    all_variants = []\n",
    "    return tmp\n",
    "    \n",
    "\n",
    "def draw_plot(coloring, rect):\n",
    "    fig = plt.figure(figsize=(17, 6))\n",
    "    ax2 = fig.add_subplot(111)\n",
    "    ax2.set_xlim([0, len(rect)+5])\n",
    "    ax2.set_ylim([0, 5])\n",
    "    rect_len = 0\n",
    "    for i in rect:\n",
    "        rect_len += lln[i]\n",
    "    ax2.set_title('Filling for {}-length rectangle'.format(rect_len))\n",
    "        \n",
    "    x, y = 1, 1\n",
    "    for i in rect:\n",
    "        patches = fig_patches[i]\n",
    "        for j in patches:\n",
    "            if coloring == 'random':\n",
    "                tmp = rc(*j, facecolor=colors[i])\n",
    "            else:\n",
    "                tmp = rc(*j, facecolor=coloring)\n",
    "                     \n",
    "            tmp.xy = (tmp.xy[0] + x, tmp.xy[1] + y)\n",
    "            ax2.add_patch(tmp)\n",
    "        x += delta[i]    "
   ]
  },
  {
   "cell_type": "code",
   "execution_count": 9,
   "metadata": {
    "scrolled": false
   },
   "outputs": [
    {
     "name": "stdout",
     "output_type": "stream",
     "text": [
      "Number of combinations: 8\n"
     ]
    },
    {
     "data": {
      "image/png": "[encoded data removed]",
      "text/plain": [
       "<matplotlib.figure.Figure at 0x7efc029bbdd8>"
      ]
     },
     "metadata": {},
     "output_type": "display_data"
    },
    {
     "data": {
      "image/png": "[encoded data removed]",
      "text/plain": [
       "<matplotlib.figure.Figure at 0x7efc02c16048>"
      ]
     },
     "metadata": {},
     "output_type": "display_data"
    },
    {
     "data": {
      "image/png": "[encoded data removed]",
      "text/plain": [
       "<matplotlib.figure.Figure at 0x7efc02be9940>"
      ]
     },
     "metadata": {},
     "output_type": "display_data"
    },
    {
     "data": {
      "image/png": "[encoded data removed]",
      "text/plain": [
       "<matplotlib.figure.Figure at 0x7efc02b947f0>"
      ]
     },
     "metadata": {},
     "output_type": "display_data"
    },
    {
     "data": {
      "image/png": "[encoded data removed]",
      "text/plain": [
       "<matplotlib.figure.Figure at 0x7efc02bb1e80>"
      ]
     },
     "metadata": {},
     "output_type": "display_data"
    },
    {
     "data": {
      "image/png": "[encoded data removed]",
      "text/plain": [
       "<matplotlib.figure.Figure at 0x7efc02b6d7f0>"
      ]
     },
     "metadata": {},
     "output_type": "display_data"
    },
    {
     "data": {
      "image/png": "[encoded data removed]",
      "text/plain": [
       "<matplotlib.figure.Figure at 0x7efc02b4b6d8>"
      ]
     },
     "metadata": {},
     "output_type": "display_data"
    },
    {
     "data": {
      "image/png": "[encoded data removed]",
      "text/plain": [
       "<matplotlib.figure.Figure at 0x7efc02a9e160>"
      ]
     },
     "metadata": {},
     "output_type": "display_data"
    }
   ],
   "source": [
    "# Use get_all_comb(n) to get all combinations of length n\n",
    "all_combs = get_all_comb(2)\n",
    "print (\"Number of combinations: {}\".format(len(all_combs)))\n",
    "for var in all_combs:\n",
    "    # use 'random' for unique color for every primitive or 'blue'/'red' etc. for constant color\n",
    "    draw_plot(coloring='random', rect=var)\n",
    "plt.show()"
   ]
  },
  {
   "cell_type": "code",
   "execution_count": 12,
   "metadata": {},
   "outputs": [
    {
     "data": {
      "image/png": "[encoded data removed]",
      "text/plain": [
       "<matplotlib.figure.Figure at 0x7efc025b1c50>"
      ]
     },
     "metadata": {},
     "output_type": "display_data"
    },
    {
     "data": {
      "image/png": "[encoded data removed]",
      "text/plain": [
       "<matplotlib.figure.Figure at 0x7efc028155c0>"
      ]
     },
     "metadata": {},
     "output_type": "display_data"
    },
    {
     "data": {
      "image/png": "[encoded data removed]",
      "text/plain": [
       "<matplotlib.figure.Figure at 0x7efc02896908>"
      ]
     },
     "metadata": {},
     "output_type": "display_data"
    }
   ],
   "source": [
    "# Use get_random_comb(n) to get random combination of length n\n",
    "var = get_random_comb(10)\n",
    "draw_plot(coloring='random', rect=var)\n",
    "var2 = get_random_comb(15)\n",
    "draw_plot(coloring='random', rect=var2)\n",
    "var3 = get_random_comb(20)\n",
    "draw_plot(coloring='random', rect=var3)\n",
    "plt.show()"
   ]
  }
 ],
 "metadata": {
  "kernelspec": {
   "display_name": "Python 3",
   "language": "python",
   "name": "python3"
  },
  "language_info": {
   "codemirror_mode": {
    "name": "ipython",
    "version": 3
   },
   "file_extension": ".py",
   "mimetype": "text/x-python",
   "name": "python",
   "nbconvert_exporter": "python",
   "pygments_lexer": "ipython3",
   "version": "3.5.2"
  }
 },
 "nbformat": 4,
 "nbformat_minor": 2
}
